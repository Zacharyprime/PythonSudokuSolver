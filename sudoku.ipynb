{
 "cells": [
  {
   "cell_type": "code",
   "execution_count": 1,
   "id": "82212632-3792-4abc-aedd-a78e783f143b",
   "metadata": {},
   "outputs": [],
   "source": [
    "def isEven(number):\n",
    "    if(number%2 == 1):\n",
    "        return 1;\n",
    "    else:\n",
    "        return -1;"
   ]
  },
  {
   "cell_type": "code",
   "execution_count": 2,
   "id": "4f98bc6e-29f1-435a-8a12-f37f18d2f8d0",
   "metadata": {},
   "outputs": [],
   "source": [
    "import math\n",
    "def check(number,index, puzzle):\n",
    "    y = math.floor(index/9)\n",
    "    x = index%9\n",
    "    for i in range(0,9):\n",
    "        if(puzzle[i*9+x] == number and (i*9+x) != index):\n",
    "            return False \n",
    "            \n",
    "        if(puzzle[9*y+i] == number and (9*y+i) != index):\n",
    "            return False\n",
    "        \n",
    "    x = math.floor(x/3)*3\n",
    "    y = math.floor(y/3)*3\n",
    "    for n in range(0,3):\n",
    "        for m in range(0,3):\n",
    "            if(puzzle[9*(y+m)+(x+n)] == number and (9*(y+m)+(x+n)) != index):\n",
    "                return False\n",
    "            \n",
    "    return True"
   ]
  },
  {
   "cell_type": "code",
   "execution_count": 3,
   "id": "4e3166db-d356-475d-9748-02df06f499fe",
   "metadata": {},
   "outputs": [],
   "source": [
    "  exPuzzle = [8,7,0,6,0,0,0,4,5,\n",
    "              0,5,0,3,0,7,0,0,0,\n",
    "              3,0,9,1,0,0,7,2,0,\n",
    "              1,0,0,5,0,0,0,7,9,\n",
    "              0,0,0,0,0,3,1,0,2,\n",
    "              7,6,0,0,2,0,5,0,0,\n",
    "              0,8,0,0,0,0,2,0,4,\n",
    "              9,0,5,2,3,0,0,8,7,\n",
    "              4,2,7,0,5,0,0,1,0]\n",
    "if(len(exPuzzle)!=81):\n",
    "    print(\"Invalid Puzzle\")\n",
    "    \n"
   ]
  },
  {
   "cell_type": "code",
   "execution_count": 4,
   "id": "261f43d5-ea13-4f91-a49a-521115435e99",
   "metadata": {},
   "outputs": [],
   "source": [
    "def find(index,puzzle):\n",
    "    checksum = 0\n",
    "    correctNum = 0;\n",
    "    for i in range(1,10):\n",
    "        if(check(i,index,puzzle) == True):\n",
    "            checksum += 1\n",
    "            correctNum = i\n",
    "    if(checksum == 1):\n",
    "        return correctNum\n",
    "    elif (checksum < 1):\n",
    "        print(\"There is a mistake!\")\n",
    "        return -1\n",
    "    else:\n",
    "        return 0          "
   ]
  },
  {
   "cell_type": "code",
   "execution_count": 5,
   "id": "89e1fead-11ba-4054-bbaf-dc3757e06f1c",
   "metadata": {},
   "outputs": [],
   "source": [
    "def testPuzzle(puzzle):\n",
    "    for x in range(9):\n",
    "        for y in range(9):\n",
    "            if(puzzle[x+9*y] == 0 or not check(puzzle[x+9*y],x+9*y,puzzle)):\n",
    "                return False\n",
    "    return True\n",
    "                \n",
    "                "
   ]
  },
  {
   "cell_type": "code",
   "execution_count": 6,
   "id": "922e703a-a259-4eaf-ab16-a0117e922786",
   "metadata": {},
   "outputs": [],
   "source": [
    "def printPuz(puzzle):\n",
    "    for i in range(9):\n",
    "        if(i%3 == 0 and i != 0):\n",
    "            print(\"---------------------------------\")\n",
    "        print(str(puzzle[(i*9):(i*9+3)]) + \" | \" + str(puzzle[(i*9+3):(i*9+6)]) + \" | \" + str(puzzle[(i*9+6):(i*9+9)]))\n",
    "        \n",
    "def Solve(puzzle):\n",
    "    while(not testPuzzle(puzzle)):\n",
    "        for i in range(81):\n",
    "            if(puzzle[i]==0):\n",
    "                puzzle[i] = find(i,puzzle)\n",
    "                #if(puzzle[i] != 0):\n",
    "                    #print(\"found a \" + str(puzzle[i]) + \" at (\" + str(i%9) + \",\" + str(math.floor(i/9)) + \")\")     \n",
    "    return puzzle              \n"
   ]
  },
  {
   "cell_type": "code",
   "execution_count": 8,
   "id": "da574dd4-0296-4bf1-80c0-02f7bf1c039d",
   "metadata": {},
   "outputs": [
    {
     "name": "stdout",
     "output_type": "stream",
     "text": [
      "[8, 7, 1] | [6, 9, 2] | [3, 4, 5]\n",
      "[2, 5, 6] | [3, 4, 7] | [8, 9, 1]\n",
      "[3, 4, 9] | [1, 8, 5] | [7, 2, 6]\n",
      "---------------------------------\n",
      "[1, 3, 2] | [5, 6, 8] | [4, 7, 9]\n",
      "[5, 9, 8] | [4, 7, 3] | [1, 6, 2]\n",
      "[7, 6, 4] | [9, 2, 1] | [5, 3, 8]\n",
      "---------------------------------\n",
      "[6, 8, 3] | [7, 1, 9] | [2, 5, 4]\n",
      "[9, 1, 5] | [2, 3, 4] | [6, 8, 7]\n",
      "[4, 2, 7] | [8, 5, 6] | [9, 1, 3]\n"
     ]
    }
   ],
   "source": [
    "printPuz(Solve(exPuzzle))\n"
   ]
  }
 ],
 "metadata": {
  "kernelspec": {
   "display_name": "Python 3",
   "language": "python",
   "name": "python3"
  },
  "language_info": {
   "codemirror_mode": {
    "name": "ipython",
    "version": 3
   },
   "file_extension": ".py",
   "mimetype": "text/x-python",
   "name": "python",
   "nbconvert_exporter": "python",
   "pygments_lexer": "ipython3",
   "version": "3.8.5"
  }
 },
 "nbformat": 4,
 "nbformat_minor": 5
}
